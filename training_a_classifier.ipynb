{
 "cells": [
  {
   "cell_type": "code",
   "execution_count": 1,
   "metadata": {},
   "outputs": [],
   "source": [
    "import numpy as np\n",
    "import tensorflow as tf\n",
    "import matplotlib.pyplot as plt"
   ]
  },
  {
   "cell_type": "code",
   "execution_count": 2,
   "metadata": {},
   "outputs": [],
   "source": [
    "N = 100 # The size of the measurement vector\n",
    "M = 5 # The number of class labels\n",
    "B = 10000 # The number of dataset examples"
   ]
  },
  {
   "cell_type": "code",
   "execution_count": 48,
   "metadata": {},
   "outputs": [],
   "source": [
    "measurements = np.random.normal(0.0, 10.0, (M, N))\n",
    "labels = np.arange(M, dtype=int)\n",
    "measurements = np.tile(measurements[:, np.newaxis, :], (1, B//M, 1)).reshape((B, N))\n",
    "labels = np.tile(labels[:, np.newaxis], (1, B//M)).reshape((B,))\n",
    "measurements += np.random.normal(0.0, 10.0, (B, N))"
   ]
  },
  {
   "cell_type": "code",
   "execution_count": 49,
   "metadata": {},
   "outputs": [
    {
     "data": {
      "text/plain": [
       "[<matplotlib.lines.Line2D at 0x23e5e7a9a58>]"
      ]
     },
     "execution_count": 49,
     "metadata": {},
     "output_type": "execute_result"
    },
    {
     "data": {
      "image/png": "[encoded data removed]",
      "text/plain": [
       "<Figure size 432x288 with 1 Axes>"
      ]
     },
     "metadata": {},
     "output_type": "display_data"
    }
   ],
   "source": [
    "plt.plot(measurements[:, 0], measurements[:, 1], \"bo\")"
   ]
  },
  {
   "cell_type": "code",
   "execution_count": 13,
   "metadata": {},
   "outputs": [],
   "source": [
    "def inference(x, theta):\n",
    "    for i, (W, b) in enumerate(theta):\n",
    "        x = tf.tensordot(x, W, 1) + b\n",
    "        if i != 2:\n",
    "            x = tf.nn.relu(x)\n",
    "    return x"
   ]
  },
  {
   "cell_type": "code",
   "execution_count": 6,
   "metadata": {},
   "outputs": [],
   "source": [
    "weights = [\n",
    "    tf.get_variable(\n",
    "        \"weights_one\",\n",
    "        [N, N*2],\n",
    "        initializer=tf.truncated_normal_initializer()),\n",
    "    tf.get_variable(\n",
    "        \"weights_two\",\n",
    "        [N*2, N*2],\n",
    "        initializer=tf.truncated_normal_initializer()),\n",
    "    tf.get_variable(\n",
    "        \"weights_three\",\n",
    "        [N*2, M],\n",
    "        initializer=tf.truncated_normal_initializer())]"
   ]
  },
  {
   "cell_type": "code",
   "execution_count": 7,
   "metadata": {},
   "outputs": [],
   "source": [
    "biases = [\n",
    "    tf.get_variable(\n",
    "        \"biases_one\",\n",
    "        [N*2],\n",
    "        initializer=tf.constant_initializer(1.0)),\n",
    "    tf.get_variable(\n",
    "        \"biases_two\",\n",
    "        [N*2],\n",
    "        initializer=tf.constant_initializer(1.0)),\n",
    "    tf.get_variable(\n",
    "        \"biases_three\",\n",
    "        [M],\n",
    "        initializer=tf.constant_initializer(1.0))]"
   ]
  },
  {
   "cell_type": "code",
   "execution_count": 50,
   "metadata": {},
   "outputs": [],
   "source": [
    "def train(x_inputs, y_labels, W, b):\n",
    "    y_pred = inference(\n",
    "        x_inputs,\n",
    "        zip(W, b))\n",
    "    loss = tf.reduce_mean(\n",
    "        tf.nn.sparse_softmax_cross_entropy_with_logits(\n",
    "            logits=y_pred,\n",
    "            labels=y_labels))\n",
    "    return tf.argmax(y_pred, axis=-1), loss, tf.train.AdamOptimizer(\n",
    "        learning_rate=0.1).minimize(\n",
    "        loss, var_list=(W + b))"
   ]
  },
  {
   "cell_type": "code",
   "execution_count": 51,
   "metadata": {},
   "outputs": [],
   "source": [
    "x_holder = tf.placeholder(tf.float32)\n",
    "y_holder = tf.placeholder(tf.int32)\n",
    "data_out = train(x_holder, y_holder, weights, biases)"
   ]
  },
  {
   "cell_type": "code",
   "execution_count": 54,
   "metadata": {},
   "outputs": [
    {
     "name": "stdout",
     "output_type": "stream",
     "text": [
      "Accuracy: 0.15 % Loss: 11533.53\n",
      "Accuracy: 0.58 % Loss: 5829.85\n",
      "Accuracy: 1.00 % Loss: 1.39\n",
      "Accuracy: 1.00 % Loss: 9.62\n",
      "Accuracy: 0.98 % Loss: 232.09\n",
      "Accuracy: 0.99 % Loss: 83.18\n",
      "Accuracy: 1.00 % Loss: 7.97\n",
      "Accuracy: 1.00 % Loss: 0.17\n",
      "Accuracy: 1.00 % Loss: 0.33\n",
      "Accuracy: 1.00 % Loss: 1.60\n"
     ]
    }
   ],
   "source": [
    "losses = []\n",
    "accuracies = []\n",
    "\n",
    "session = tf.Session()\n",
    "session.run(tf.global_variables_initializer())\n",
    "for i in range(10):\n",
    "    pred, loss, grad = session.run(\n",
    "        data_out,\n",
    "        feed_dict={x_holder: measurements, y_holder: labels})\n",
    "    acc = sum([1.0 if pred[i] == labels[i] else 0.0 for i in range(B)]) / B\n",
    "    print(\n",
    "        \"Accuracy: %.2f %%\" % acc,\n",
    "        \"Loss: %.2f\" % loss)\n",
    "    \n",
    "    losses += [loss]\n",
    "    accuracies += [acc]"
   ]
  },
  {
   "cell_type": "code",
   "execution_count": 56,
   "metadata": {},
   "outputs": [
    {
     "data": {
      "image/png": "[encoded data removed]",
      "text/plain": [
       "<Figure size 432x288 with 1 Axes>"
      ]
     },
     "metadata": {},
     "output_type": "display_data"
    }
   ],
   "source": [
    "plt.plot(losses, \"r-\")\n",
    "plt.xlabel(\"Training Epoch\")\n",
    "plt.ylabel(\"Mean Cross Entropy Loss\")\n",
    "plt.title(\"Training Loss\")\n",
    "plt.grid(True)\n",
    "plt.show()"
   ]
  },
  {
   "cell_type": "code",
   "execution_count": 58,
   "metadata": {},
   "outputs": [
    {
     "data": {
      "image/png": "[encoded data removed]",
      "text/plain": [
       "<Figure size 432x288 with 1 Axes>"
      ]
     },
     "metadata": {},
     "output_type": "display_data"
    }
   ],
   "source": [
    "plt.plot(accuracies, \"r-\")\n",
    "plt.xlabel(\"Training Epoch\")\n",
    "plt.ylabel(\"Fraction Correctly Classified\")\n",
    "plt.title(\"Training Accuracy\")\n",
    "plt.grid(True)\n",
    "plt.show()"
   ]
  },
  {
   "cell_type": "code",
   "execution_count": null,
   "metadata": {},
   "outputs": [],
   "source": []
  }
 ],
 "metadata": {
  "kernelspec": {
   "display_name": "Python 3",
   "language": "python",
   "name": "python3"
  },
  "language_info": {
   "codemirror_mode": {
    "name": "ipython",
    "version": 3
   },
   "file_extension": ".py",
   "mimetype": "text/x-python",
   "name": "python",
   "nbconvert_exporter": "python",
   "pygments_lexer": "ipython3",
   "version": "3.6.5"
  }
 },
 "nbformat": 4,
 "nbformat_minor": 2
}
